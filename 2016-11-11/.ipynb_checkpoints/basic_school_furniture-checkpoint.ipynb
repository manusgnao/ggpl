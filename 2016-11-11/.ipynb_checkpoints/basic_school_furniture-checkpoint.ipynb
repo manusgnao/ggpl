{
 "cells": [
  {
   "cell_type": "code",
   "execution_count": 1,
   "metadata": {
    "collapsed": false
   },
   "outputs": [
    {
     "data": {
      "text/plain": [
       "' workshop 05 '"
      ]
     },
     "execution_count": 1,
     "metadata": {},
     "output_type": "execute_result"
    }
   ],
   "source": [
    "\"\"\" workshop 05 \"\"\""
   ]
  },
  {
   "cell_type": "code",
   "execution_count": 2,
   "metadata": {
    "collapsed": false
   },
   "outputs": [
    {
     "name": "stdout",
     "output_type": "stream",
     "text": [
      "Evaluating fenvs.py..\n",
      "...fenvs.py imported in 0.00786938408461 seconds\n"
     ]
    }
   ],
   "source": [
    "from pyplasm import *"
   ]
  },
  {
   "cell_type": "code",
   "execution_count": 3,
   "metadata": {
    "collapsed": false
   },
   "outputs": [
    {
     "data": {
      "text/plain": [
       "' Riproduzione di una Lavagna\\nboardX --> lunghezza del piano della lavagna (asse X)\\nboardY --> spessore del piano della lavagna (asse Y)\\nboardZ --> altezza del piano della lavagna (asse Z)\\nlegX --> asse X del sostegno della lavagna\\nlegY --> asse Y del sostegno della lavagna\\nlegZ --> altezza del sostegno della lavagna\\n'"
      ]
     },
     "execution_count": 3,
     "metadata": {},
     "output_type": "execute_result"
    }
   ],
   "source": [
    "\"\"\" Riproduzione di una Lavagna\n",
    "boardX --> lunghezza del piano della lavagna (asse X)\n",
    "boardY --> spessore del piano della lavagna (asse Y)\n",
    "boardZ --> altezza del piano della lavagna (asse Z)\n",
    "legX --> asse X del sostegno della lavagna\n",
    "legY --> asse Y del sostegno della lavagna\n",
    "legZ --> altezza del sostegno della lavagna\n",
    "\"\"\""
   ]
  },
  {
   "cell_type": "code",
   "execution_count": 4,
   "metadata": {
    "collapsed": true
   },
   "outputs": [],
   "source": [
    "def makeLavagna(boardX,boardY,boardZ,legX,legY,legZ):\n",
    "\tlavagna = COLOR(BLACK)(CUBOID([boardX,boardY,boardZ]))\n",
    "\tleg = CUBOID([legX,legY,legZ])\n",
    "\tcouple = STRUCT([leg,T(1)(boardX-legX),leg])\n",
    "\ttotalLavagna = STRUCT([couple, T(3)(legZ), lavagna])\n",
    "\tVIEW(totalLavagna)"
   ]
  },
  {
   "cell_type": "code",
   "execution_count": 5,
   "metadata": {
    "collapsed": true
   },
   "outputs": [],
   "source": [
    "makeLavagna(3.0,0.1,1.5,0.1,0.1,0.6)"
   ]
  },
  {
   "cell_type": "code",
   "execution_count": 6,
   "metadata": {
    "collapsed": false
   },
   "outputs": [
    {
     "data": {
      "text/plain": [
       "' Riproduzione di un Banco\\nplanX --> lunghezza del piano del banco (asse X)\\nplanY --> spessore del piano del banco (asse Y)\\nplanZ --> altezza del piano del banco (asse Z)\\nlegX --> asse X della gamba del banco\\nlegY --> asse Y della gamba del banco\\nlegZ --> altezza della gamba del banco\\n'"
      ]
     },
     "execution_count": 6,
     "metadata": {},
     "output_type": "execute_result"
    }
   ],
   "source": [
    "\"\"\" Riproduzione di un Banco\n",
    "planX --> lunghezza del piano del banco (asse X)\n",
    "planY --> spessore del piano del banco (asse Y)\n",
    "planZ --> altezza del piano del banco (asse Z)\n",
    "legX --> asse X della gamba del banco\n",
    "legY --> asse Y della gamba del banco\n",
    "legZ --> altezza della gamba del banco\n",
    "\"\"\""
   ]
  },
  {
   "cell_type": "code",
   "execution_count": 7,
   "metadata": {
    "collapsed": true
   },
   "outputs": [],
   "source": [
    "def makeDesk(planX,planY,planZ,legX,legY,legZ):\n",
    "\ttableLeg = CUBOID([legX,legY,legZ])\n",
    "\n",
    "\tcouple = STRUCT([tableLeg, T(2)(legZ), tableLeg])\n",
    "\n",
    "\tlegs = STRUCT([couple, T(1)(planX), couple])\n",
    "\n",
    "\tplan = COLOR(GREEN)(CUBOID([planX+legX,planY+legY,planZ]))\n",
    "\n",
    "\tdesk = STRUCT([legs, T(3)(legZ), plan])\n",
    "\tVIEW(desk)"
   ]
  },
  {
   "cell_type": "code",
   "execution_count": 8,
   "metadata": {
    "collapsed": true
   },
   "outputs": [],
   "source": [
    "makeDesk(0.8,0.5,0.05,0.05,0.05,0.5)"
   ]
  },
  {
   "cell_type": "code",
   "execution_count": 9,
   "metadata": {
    "collapsed": false
   },
   "outputs": [
    {
     "data": {
      "text/plain": [
       "' Riproduzione di una Sedia\\nseatX --> lunghezza del sedile della sedia (asse X)\\nseatY --> spessore del sedile della sedia (asse Y)\\nseatZ --> altezza del sedile della sedia (asse Z)\\nlegX --> asse X della gamba della sedia\\nlegY --> asse Y della gamba della sedia\\nlegZ --> altezza della gamba della sedia\\n'"
      ]
     },
     "execution_count": 9,
     "metadata": {},
     "output_type": "execute_result"
    }
   ],
   "source": [
    "\"\"\" Riproduzione di una Sedia\n",
    "seatX --> lunghezza del sedile della sedia (asse X)\n",
    "seatY --> spessore del sedile della sedia (asse Y)\n",
    "seatZ --> altezza del sedile della sedia (asse Z)\n",
    "legX --> asse X della gamba della sedia\n",
    "legY --> asse Y della gamba della sedia\n",
    "legZ --> altezza della gamba della sedia\n",
    "\"\"\""
   ]
  },
  {
   "cell_type": "code",
   "execution_count": 10,
   "metadata": {
    "collapsed": true
   },
   "outputs": [],
   "source": [
    "def makeChair(legX,legY,legZ,seatX,seatY,seatZ):\n",
    "\tchairLeg = CUBOID([legX,legY,legZ])\n",
    "\tcouple = STRUCT([chairLeg, T(2)(seatY), chairLeg])\n",
    "\tlegs = STRUCT([couple, T(1)(seatX), couple]) \n",
    "\tseat = COLOR(RED)(CUBOID([seatX+legX,seatY+legY,seatZ]))\n",
    "\tparzChair = STRUCT([legs, T(3)(legZ-seatZ), seat, T(3)(seatZ), couple])\n",
    "\tback = COLOR(RED)(CUBOID([legX,seatY-legY,seatZ*2]))\n",
    "\tchair = STRUCT([parzChair, T([2,3])([0.05,0.65]), back])\n",
    "\tVIEW(chair)"
   ]
  },
  {
   "cell_type": "code",
   "execution_count": 11,
   "metadata": {
    "collapsed": true
   },
   "outputs": [],
   "source": [
    "makeChair(0.05,0.05,0.4,0.3,0.3,0.05)"
   ]
  },
  {
   "cell_type": "code",
   "execution_count": null,
   "metadata": {
    "collapsed": true
   },
   "outputs": [],
   "source": []
  }
 ],
 "metadata": {
  "kernelspec": {
   "display_name": "Python 2",
   "language": "python",
   "name": "python2"
  },
  "language_info": {
   "codemirror_mode": {
    "name": "ipython",
    "version": 2
   },
   "file_extension": ".py",
   "mimetype": "text/x-python",
   "name": "python",
   "nbconvert_exporter": "python",
   "pygments_lexer": "ipython2",
   "version": "2.7.3"
  }
 },
 "nbformat": 4,
 "nbformat_minor": 1
}
