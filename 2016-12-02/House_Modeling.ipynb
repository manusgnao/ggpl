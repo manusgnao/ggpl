{
 "cells": [
  {
   "cell_type": "code",
   "execution_count": 1,
   "metadata": {
    "collapsed": false
   },
   "outputs": [
    {
     "data": {
      "text/plain": [
       "' workshop 08 '"
      ]
     },
     "execution_count": 1,
     "metadata": {},
     "output_type": "execute_result"
    }
   ],
   "source": [
    "\"\"\" workshop 08 \"\"\""
   ]
  },
  {
   "cell_type": "code",
   "execution_count": 2,
   "metadata": {
    "collapsed": false
   },
   "outputs": [
    {
     "name": "stdout",
     "output_type": "stream",
     "text": [
      "Evaluating fenvs.py..\n",
      "...fenvs.py imported in 0.00865011608556 seconds\n"
     ]
    }
   ],
   "source": [
    "from pyplasm import *\n",
    "import numpy as np"
   ]
  },
  {
   "cell_type": "code",
   "execution_count": 3,
   "metadata": {
    "collapsed": false
   },
   "outputs": [
    {
     "data": {
      "text/plain": [
       "' texture del muro esterno '"
      ]
     },
     "execution_count": 3,
     "metadata": {},
     "output_type": "execute_result"
    }
   ],
   "source": [
    "\"\"\" texture del muro esterno \"\"\""
   ]
  },
  {
   "cell_type": "code",
   "execution_count": 4,
   "metadata": {
    "collapsed": true
   },
   "outputs": [],
   "source": [
    "wallTexture = \"/texture/wall.jpg\""
   ]
  },
  {
   "cell_type": "code",
   "execution_count": 5,
   "metadata": {
    "collapsed": false
   },
   "outputs": [
    {
     "data": {
      "text/plain": [
       "' struttura vuota da cui iniziare '"
      ]
     },
     "execution_count": 5,
     "metadata": {},
     "output_type": "execute_result"
    }
   ],
   "source": [
    "\"\"\" struttura vuota da cui iniziare \"\"\""
   ]
  },
  {
   "cell_type": "code",
   "execution_count": 6,
   "metadata": {
    "collapsed": true
   },
   "outputs": [],
   "source": [
    "init = CUBOID([.0,.0,.0])\n",
    "initStruct = STRUCT([init])"
   ]
  },
  {
   "cell_type": "code",
   "execution_count": 7,
   "metadata": {
    "collapsed": false
   },
   "outputs": [
    {
     "data": {
      "text/plain": [
       "' da file level-X.lines estraggo i punti '"
      ]
     },
     "execution_count": 7,
     "metadata": {},
     "output_type": "execute_result"
    }
   ],
   "source": [
    "\"\"\" da file level-X.lines estraggo i punti \"\"\""
   ]
  },
  {
   "cell_type": "code",
   "execution_count": 8,
   "metadata": {
    "collapsed": true
   },
   "outputs": [],
   "source": [
    "def readFromLineFile(l):\n",
    "\tfile = open(\"lines/level-\"+str(l)+\".lines\",\"r\")\n",
    "\tdata = file.read()\n",
    "\tfile.close()\n",
    "\treturn data.splitlines()"
   ]
  },
  {
   "cell_type": "code",
   "execution_count": 10,
   "metadata": {
    "collapsed": false
   },
   "outputs": [
    {
     "data": {
      "text/plain": [
       "\" perimetro dell'edificio \""
      ]
     },
     "execution_count": 10,
     "metadata": {},
     "output_type": "execute_result"
    }
   ],
   "source": [
    "\"\"\" perimetro dell'edificio \"\"\"\n"
   ]
  },
  {
   "cell_type": "code",
   "execution_count": 11,
   "metadata": {
    "collapsed": true
   },
   "outputs": [],
   "source": [
    "level1 = readFromLineFile(1)"
   ]
  },
  {
   "cell_type": "code",
   "execution_count": 12,
   "metadata": {
    "collapsed": false
   },
   "outputs": [
    {
     "data": {
      "text/plain": [
       "\" piantina dell'edificio con porte \""
      ]
     },
     "execution_count": 12,
     "metadata": {},
     "output_type": "execute_result"
    }
   ],
   "source": [
    "\"\"\" piantina dell'edificio con porte \"\"\""
   ]
  },
  {
   "cell_type": "code",
   "execution_count": 13,
   "metadata": {
    "collapsed": true
   },
   "outputs": [],
   "source": [
    "level2 = readFromLineFile(2)"
   ]
  },
  {
   "cell_type": "code",
   "execution_count": 14,
   "metadata": {
    "collapsed": false
   },
   "outputs": [
    {
     "data": {
      "text/plain": [
       "\" piantina dell'edificio con porte e finestre\""
      ]
     },
     "execution_count": 14,
     "metadata": {},
     "output_type": "execute_result"
    }
   ],
   "source": [
    "\"\"\" piantina dell'edificio con porte e finestre\"\"\""
   ]
  },
  {
   "cell_type": "code",
   "execution_count": 15,
   "metadata": {
    "collapsed": true
   },
   "outputs": [],
   "source": [
    "level3 = readFromLineFile(3)"
   ]
  },
  {
   "cell_type": "code",
   "execution_count": 16,
   "metadata": {
    "collapsed": false
   },
   "outputs": [
    {
     "data": {
      "text/plain": [
       "\" piantina dell'edificio con porte chiuse per stipiti delle porte \""
      ]
     },
     "execution_count": 16,
     "metadata": {},
     "output_type": "execute_result"
    }
   ],
   "source": [
    "\"\"\" piantina dell'edificio con porte chiuse per stipiti delle porte \"\"\""
   ]
  },
  {
   "cell_type": "code",
   "execution_count": 17,
   "metadata": {
    "collapsed": true
   },
   "outputs": [],
   "source": [
    "level4 = readFromLineFile(4)"
   ]
  },
  {
   "cell_type": "code",
   "execution_count": 18,
   "metadata": {
    "collapsed": false
   },
   "outputs": [
    {
     "data": {
      "text/plain": [
       "\" array da scorrere per costruire un piano sull'altro\""
      ]
     },
     "execution_count": 18,
     "metadata": {},
     "output_type": "execute_result"
    }
   ],
   "source": [
    "\"\"\" array da scorrere per costruire un piano sull'altro\"\"\""
   ]
  },
  {
   "cell_type": "code",
   "execution_count": 19,
   "metadata": {
    "collapsed": true
   },
   "outputs": [],
   "source": [
    "levels = [level1,level2,level3,level4,level1]"
   ]
  },
  {
   "cell_type": "code",
   "execution_count": 20,
   "metadata": {
    "collapsed": false
   },
   "outputs": [
    {
     "data": {
      "text/plain": [
       "' altezza di ogni piano '"
      ]
     },
     "execution_count": 20,
     "metadata": {},
     "output_type": "execute_result"
    }
   ],
   "source": [
    "\"\"\" altezza di ogni piano \"\"\""
   ]
  },
  {
   "cell_type": "code",
   "execution_count": 21,
   "metadata": {
    "collapsed": true
   },
   "outputs": [],
   "source": [
    "heights = [0.0,30.0,30.0,20.0,0.0]"
   ]
  },
  {
   "cell_type": "code",
   "execution_count": 22,
   "metadata": {
    "collapsed": false
   },
   "outputs": [
    {
     "data": {
      "text/plain": [
       "\" leggo i punti e costruisco i livelli dell'edificio \""
      ]
     },
     "execution_count": 22,
     "metadata": {},
     "output_type": "execute_result"
    }
   ],
   "source": [
    "\"\"\" leggo i punti e costruisco i livelli dell'edificio \"\"\""
   ]
  },
  {
   "cell_type": "code",
   "execution_count": 23,
   "metadata": {
    "collapsed": true
   },
   "outputs": [],
   "source": [
    "def buildHome(l,i,h,building):\n",
    "\t\"\"\" ciclo i livelli \"\"\"\n",
    "\tif l <= len(levels)-1:\n",
    "\t\t\"\"\"ciclo i punti di ongni muro di un piano\"\"\"\n",
    "\t\tif i < len(levels[l])-1:\n",
    "\t\t\t\"\"\"prendo i punti di un muro\"\"\"\n",
    "\t\t\tcoords = levels[l][i]\n",
    "\t\t\t\"\"\"li inserisco in un array\"\"\"\n",
    "\t\t\tarrayCoords = coords.split(\",\")\n",
    "\t\t\t\"\"\"trasformo ogni elemento dell'array da string a float\"\"\"\n",
    "\t\t\telem = np.array(arrayCoords, dtype=float)\n",
    "\t\t\t\"\"\" creo il muro(1D) unendo i punti estratti dal lines nella sua posizione\n",
    "\t\t\telem[0] --> x1\n",
    "\t\t\telem[1] --> y1\n",
    "\t\t\telem[2] --> x2\n",
    "\t\t\telem[3] --> y2\n",
    "\t\t\t[elem[0],elem[1]] --> x1,y1\n",
    "\t\t\t[elem[0],elem[3]] --> x1,y2\n",
    "\t\t\t[elem[2],elem[1]] --> x2,y1\n",
    "\t\t\t[elem[2],elem[3]] --> x2,y1\n",
    "\t\t\t\"\"\"\n",
    "\t\t\tbuild = MKPOL([[[elem[0],elem[1],0.0],[elem[0],elem[3],0.0],[elem[2],elem[1],0.0],[elem[2],elem[3],0.0]],[[1,2,3,4]],[1]])\n",
    "\t\t\t\"\"\"do al muro l'altezza riferita al piano che sto creando\"\"\"\n",
    "\t\t\tbuildOffset = OFFSET([1.5, 1.5, heights[l]])(build)\n",
    "\t\t\t\"\"\"applico la texture al muro\"\"\"\n",
    "\t\t\tbuildTexture = TEXTURE([wallTexture, TRUE, FALSE, 1, 1, 0, 6, 1])(buildOffset)\n",
    "\t\t\t\"\"\"traslo il piano per farlo posizionare sopra il piano precedente tramite h\"\"\"\n",
    "\t\t\tbuildTraslated = STRUCT([T(3)(h), buildTexture])\n",
    "\t\t\tfinalStruct = STRUCT([buildTraslated, building])\n",
    "\t\t\t\"\"\"rieseguo la funzione per creare un nuovo muro\"\"\"\n",
    "\t\t\treturn buildHome(l,i+1,h,finalStruct)\n",
    "\t\telse:\n",
    "\t\t\t\"\"\"calcolo l'altezza complessiva per posizionare il nuovo piano\"\"\"\n",
    "\t\t\th = h + heights[l]\n",
    "\t\t\t\"\"\"rieseguo la funzione per creare un nuovo piano\"\"\"\n",
    "\t\t\treturn buildHome(l+1,0,h,building)\n",
    "\telse:\n",
    "\t\tVIEW(building)"
   ]
  },
  {
   "cell_type": "code",
   "execution_count": 24,
   "metadata": {
    "collapsed": true
   },
   "outputs": [],
   "source": [
    "buildHome(0,0,0.0,initStruct)"
   ]
  },
  {
   "cell_type": "code",
   "execution_count": null,
   "metadata": {
    "collapsed": true
   },
   "outputs": [],
   "source": []
  }
 ],
 "metadata": {
  "kernelspec": {
   "display_name": "Python 2",
   "language": "python",
   "name": "python2"
  },
  "language_info": {
   "codemirror_mode": {
    "name": "ipython",
    "version": 2
   },
   "file_extension": ".py",
   "mimetype": "text/x-python",
   "name": "python",
   "nbconvert_exporter": "python",
   "pygments_lexer": "ipython2",
   "version": "2.7.3"
  }
 },
 "nbformat": 4,
 "nbformat_minor": 1
}
