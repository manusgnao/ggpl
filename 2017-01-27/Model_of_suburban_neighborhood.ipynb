{
 "cells": [
  {
   "cell_type": "code",
   "execution_count": 1,
   "metadata": {
    "collapsed": false
   },
   "outputs": [
    {
     "name": "stdout",
     "output_type": "stream",
     "text": [
      "Evaluating fenvs.py..\n",
      "...fenvs.py imported in 0.0108959769885 seconds\n"
     ]
    }
   ],
   "source": [
    "\"\"\" workshop 11 \"\"\"\n",
    "from pyplasm import *\n",
    "import numpy as np\n",
    "import sys, os"
   ]
  },
  {
   "cell_type": "code",
   "execution_count": 2,
   "metadata": {
    "collapsed": true
   },
   "outputs": [],
   "source": [
    "sys.path.append(\"house\")\n",
    "import house"
   ]
  },
  {
   "cell_type": "code",
   "execution_count": 3,
   "metadata": {
    "collapsed": true
   },
   "outputs": [],
   "source": [
    "grassTexture = \"texture/grass4.jpg\"\n",
    "asphaltTexture = \"texture/asphalt.jpg\""
   ]
  },
  {
   "cell_type": "code",
   "execution_count": 4,
   "metadata": {
    "collapsed": true
   },
   "outputs": [],
   "source": [
    "zero = CUBOID([.0,.0,.0])\n",
    "initStruct = STRUCT([zero])\n",
    "level_height = [30.0,30.0,20.0,30.0,30.0,20.0]\n",
    "heights = [60.0,20.0,3.5,60.0,20.0]"
   ]
  },
  {
   "cell_type": "code",
   "execution_count": 5,
   "metadata": {
    "collapsed": true
   },
   "outputs": [],
   "source": [
    "\"\"\"funzione che conta quanti file ci sono in una cartella\"\"\"\n",
    "def countFileDirectory(path):\n",
    "  i = 0\n",
    "  for name in os.listdir(path):\n",
    "      if not name.startswith(\".\"):\n",
    "        i = i + 1\n",
    "  return i"
   ]
  },
  {
   "cell_type": "code",
   "execution_count": 6,
   "metadata": {
    "collapsed": true
   },
   "outputs": [],
   "source": [
    "\"\"\"funzione che legge il contenuto del file lines ottenuto da un file SVG\"\"\"\n",
    "def readSvg(l,reading_level,path):\n",
    "  file = open(\"elements/\"+path+\"/lines/level-\"+str(l)+\".lines\",\"r\")\n",
    "  data = file.read()\n",
    "  n = countFileDirectory(\"elements/\"+path+\"/lines/\")\n",
    "  file.close()\n",
    "  d = data.splitlines()\n",
    "  reading_level = reading_level + [d]\n",
    "  if l!=n-1:\n",
    "    return readSvg(l+1,reading_level,path)\n",
    "  else:\n",
    "    return reading_level"
   ]
  },
  {
   "cell_type": "code",
   "execution_count": 7,
   "metadata": {
    "collapsed": true
   },
   "outputs": [],
   "source": [
    "levelBase = readSvg(0,[],\"base\")\n",
    "levelStreet = readSvg(0,[],\"street\")\n",
    "levelHouse = readSvg(0,[],\"house\")"
   ]
  },
  {
   "cell_type": "code",
   "execution_count": 8,
   "metadata": {
    "collapsed": true
   },
   "outputs": [],
   "source": [
    "\"\"\"funzione che legge le linee di un file lines\"\"\"\n",
    "def parseLines(l,i, params):\n",
    "  string_line = params[l][i]\n",
    "  split_line = string_line.split(\",\")\n",
    "  array_line = np.array(split_line, dtype=float)\n",
    "  return array_line"
   ]
  },
  {
   "cell_type": "code",
   "execution_count": 9,
   "metadata": {
    "collapsed": true
   },
   "outputs": [],
   "source": [
    "\"\"\"funzione che crea il piano contenente il prato su cui verranno costruite strade e case\"\"\"\n",
    "def createGarden(i,s1):\n",
    "  if i < len(levelBase[0]):\n",
    "    params = parseLines(0,i,levelBase)\n",
    "    a_pol = MKPOL([[[params[0],params[1],0.0],[params[1],params[2],0.0],[params[2],params[3],0.0],[params[3],params[0],0.0]],[[1,2,3,4]],[1]])\n",
    "    s2 = STRUCT([a_pol, s1])\n",
    "    return createGarden(i+1,s2)\n",
    "  else:\n",
    "    s1 = TEXTURE([grassTexture, TRUE, FALSE, 1, 1, 0, 3, 1])(s1)\n",
    "    return s1"
   ]
  },
  {
   "cell_type": "code",
   "execution_count": 10,
   "metadata": {
    "collapsed": true
   },
   "outputs": [],
   "source": [
    "\"\"\"funzione che costruisce le strade a partire da 3 svg\"\"\"\n",
    "def buildStreet(l,i,s1):\n",
    "\tif l <= len(levelStreet)-1:\n",
    "\t\tif i < len(levelStreet[l]):\n",
    "\t\t\tparams = parseLines(l,i,levelStreet)\n",
    "\t\t\ta_pol = POLYLINE([[params[0],params[1]],[params[2],params[3]]])\n",
    "\t\t\ta_off = OFFSET([0.0, 0.0, 0.0])(a_pol)\n",
    "\t\t\ts2 = STRUCT([a_off, s1])\n",
    "\t\t\treturn buildStreet(l,i+1,s2)\n",
    "\t\telse:\n",
    "\t\t\ts1 = SOLIDIFY(SKEL_2(s1))\n",
    "\t\t\ts1=STRUCT([T(3)(5.0),s1])\n",
    "\t\t\ts1 = TEXTURE([asphaltTexture, TRUE, FALSE, 1, 1, 0, 10, 10])(s1)\n",
    "\t\t\treturn buildStreet(l+1,0,s1)\n",
    "\telse:\n",
    "\t\treturn s1"
   ]
  },
  {
   "cell_type": "code",
   "execution_count": 11,
   "metadata": {
    "collapsed": true
   },
   "outputs": [],
   "source": [
    "\"\"\"funzione che costruisce una casa in corrispondenza del perimetro a essa assegnato\"\"\"\n",
    "def buildHouse(i,s1):\n",
    "  if i < len(levelHouse[0]):\n",
    "    params = parseLines(0,i,levelHouse)\n",
    "    h2 = house.createMoreHouse(0,initStruct,0.0)\n",
    "    \n",
    "    if(i==3 or i==7):\n",
    "      h2 = ROTATE([1,2])(PI/2)(h2)\n",
    "      h2 = STRUCT([T([1,2,3])([params[0]+940.00,params[1]+3150.0,2.0]),h2])\n",
    "\n",
    "    else:\n",
    "      h2 = ROTATE([1,2])(-PI/2)(h2)\n",
    "      h2 = STRUCT([T([1,2,3])([params[0]-290.00,params[1]+3910.0,2.0]),h2])\n",
    "\n",
    "    s1 = STRUCT([h2, s1])\n",
    "    return buildHouse(i+4,s1)\n",
    "  else:\n",
    "    return s1"
   ]
  },
  {
   "cell_type": "code",
   "execution_count": 12,
   "metadata": {
    "collapsed": true
   },
   "outputs": [],
   "source": [
    "\"\"\"funzione che costruisce un isolato di un quartiere utilizzando le funzioni precedentemente illustrate\"\"\"\n",
    "def buildBlock():\n",
    "  garden_level = createGarden(0,initStruct)\n",
    "  street_level = buildStreet(0,0,initStruct)\n",
    "  house_level2 = buildHouse(3,initStruct)\n",
    "  house=STRUCT([initStruct,T(3)(0.0),garden_level])\n",
    "  house=STRUCT([house,T(3)(2.0),street_level])\n",
    "  house=STRUCT([house,T(3)(2.0),house_level2])\n",
    "  return house"
   ]
  },
  {
   "cell_type": "code",
   "execution_count": 19,
   "metadata": {
    "collapsed": true
   },
   "outputs": [],
   "source": [
    "\"\"\"funzione che costruisce un quartiere residenziale richiamando la funzione che costruisce isolati\"\"\"\n",
    "def suburban_neighborhood(i,s1,d):\n",
    "  if i < 3:\n",
    "    h1 = buildBlock()\n",
    "    h1=STRUCT([T(1)(d),h1])\n",
    "    s1= STRUCT([h1, s1])\n",
    "    return suburban_neighborhood(i+1,s1,d+3600.0)\n",
    "  else:\n",
    "    VIEW(s1)"
   ]
  },
  {
   "cell_type": "code",
   "execution_count": 20,
   "metadata": {
    "collapsed": true
   },
   "outputs": [],
   "source": [
    "suburban_neighborhood(0,initStruct,0.0)"
   ]
  },
  {
   "cell_type": "code",
   "execution_count": null,
   "metadata": {
    "collapsed": true
   },
   "outputs": [],
   "source": []
  }
 ],
 "metadata": {
  "kernelspec": {
   "display_name": "Python 2",
   "language": "python",
   "name": "python2"
  },
  "language_info": {
   "codemirror_mode": {
    "name": "ipython",
    "version": 2
   },
   "file_extension": ".py",
   "mimetype": "text/x-python",
   "name": "python",
   "nbconvert_exporter": "python",
   "pygments_lexer": "ipython2",
   "version": "2.7.3"
  }
 },
 "nbformat": 4,
 "nbformat_minor": 1
}
