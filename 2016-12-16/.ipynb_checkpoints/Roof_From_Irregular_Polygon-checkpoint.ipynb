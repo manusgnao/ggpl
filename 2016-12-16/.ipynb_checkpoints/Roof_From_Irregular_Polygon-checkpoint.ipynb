{
 "cells": [
  {
   "cell_type": "code",
   "execution_count": 1,
   "metadata": {
    "collapsed": false
   },
   "outputs": [
    {
     "data": {
      "text/plain": [
       "' WORKSHOP 09 '"
      ]
     },
     "execution_count": 1,
     "metadata": {},
     "output_type": "execute_result"
    }
   ],
   "source": [
    "\"\"\" WORKSHOP 09 \"\"\""
   ]
  },
  {
   "cell_type": "code",
   "execution_count": 2,
   "metadata": {
    "collapsed": false
   },
   "outputs": [
    {
     "name": "stdout",
     "output_type": "stream",
     "text": [
      "Evaluating fenvs.py..\n",
      "...fenvs.py imported in 0.00861045164931 seconds\n"
     ]
    }
   ],
   "source": [
    "from pyplasm import *\n",
    "\n",
    "textureRoof = \"texture/textureRoof.jpg\"\n",
    "textureGround = \"texture/textureGround.jpg\""
   ]
  },
  {
   "cell_type": "code",
   "execution_count": 3,
   "metadata": {
    "collapsed": true
   },
   "outputs": [],
   "source": [
    "spessore = 0.2"
   ]
  },
  {
   "cell_type": "code",
   "execution_count": 4,
   "metadata": {
    "collapsed": false
   },
   "outputs": [
    {
     "data": {
      "text/plain": [
       "'coordinate X del teto'"
      ]
     },
     "execution_count": 4,
     "metadata": {},
     "output_type": "execute_result"
    }
   ],
   "source": [
    "\"\"\"coordinate X del teto\"\"\""
   ]
  },
  {
   "cell_type": "code",
   "execution_count": 5,
   "metadata": {
    "collapsed": true
   },
   "outputs": [],
   "source": [
    "x = [\n",
    "  1.0,  #0\n",
    "  3.0,  #1\n",
    "  7.0,  #2\n",
    "  8.0,  #3\n",
    "  10.0, #4\n",
    "  12.0, #5\n",
    "  14.0, #6\n",
    "  16.0, #7\n",
    "  17.0, #8\n",
    "  21.0, #9\n",
    "  23.0  #10\n",
    "]"
   ]
  },
  {
   "cell_type": "code",
   "execution_count": 6,
   "metadata": {
    "collapsed": false
   },
   "outputs": [
    {
     "data": {
      "text/plain": [
       "'coordinate Y del teto'"
      ]
     },
     "execution_count": 6,
     "metadata": {},
     "output_type": "execute_result"
    }
   ],
   "source": [
    "\"\"\"coordinate Y del teto\"\"\""
   ]
  },
  {
   "cell_type": "code",
   "execution_count": 7,
   "metadata": {
    "collapsed": true
   },
   "outputs": [],
   "source": [
    "y = [\n",
    "  1.0,  #0\n",
    "  3.0,  #1\n",
    "  5.0,  #2\n",
    "  7.0,  #3\n",
    "  8.0,  #4\n",
    "  10.0, #5\n",
    "  11.0, #6\n",
    "  12.0  #7\n",
    "]"
   ]
  },
  {
   "cell_type": "code",
   "execution_count": 8,
   "metadata": {
    "collapsed": true
   },
   "outputs": [],
   "source": [
    "z = [\n",
    "  0.0,  #0\n",
    "  2.0   #1\n",
    "]"
   ]
  },
  {
   "cell_type": "code",
   "execution_count": 9,
   "metadata": {
    "collapsed": false
   },
   "outputs": [
    {
     "data": {
      "text/plain": [
       "'vertici che creeranno il tetto'"
      ]
     },
     "execution_count": 9,
     "metadata": {},
     "output_type": "execute_result"
    }
   ],
   "source": [
    "\"\"\"vertici che creeranno il tetto\"\"\""
   ]
  },
  {
   "cell_type": "code",
   "execution_count": 10,
   "metadata": {
    "collapsed": true
   },
   "outputs": [],
   "source": [
    "vertex = [\n",
    "  [x[0],y[0],z[0]], #1 ---> vertici esterni\n",
    "  [x[0],y[3],z[0]], #2\n",
    "  [x[3],y[7],z[0]], #3\n",
    "  [x[7],y[7],z[0]], #4\n",
    "  [x[10],y[3],z[0]],#5\n",
    "  [x[10],y[0],z[0]],#6\n",
    "  [x[7],y[0],z[0]], #7\n",
    "  [x[5],y[2],z[0]], #8\n",
    "  [x[3],y[0],z[0]], #9\n",
    "  [x[1],y[1],z[1]], #10 ---> vertici interni (terrazzo)\n",
    "  [x[1],y[2],z[1]], #11\n",
    "  [x[4],y[5],z[1]], #12\n",
    "  [x[6],y[5],z[1]], #13\n",
    "  [x[9],y[2],z[1]], #14\n",
    "  [x[9],y[1],z[1]], #15\n",
    "  [x[8],y[1],z[1]], #16\n",
    "  [x[5],y[4],z[1]], #17\n",
    "  [x[2],y[1],z[1]]  #18\n",
    "\n",
    "]"
   ]
  },
  {
   "cell_type": "code",
   "execution_count": 11,
   "metadata": {
    "collapsed": false
   },
   "outputs": [
    {
     "data": {
      "text/plain": [
       "'unendo i vertici si creano le celle'"
      ]
     },
     "execution_count": 11,
     "metadata": {},
     "output_type": "execute_result"
    }
   ],
   "source": [
    "\"\"\"unendo i vertici si creano le celle\"\"\""
   ]
  },
  {
   "cell_type": "code",
   "execution_count": 12,
   "metadata": {
    "collapsed": true
   },
   "outputs": [],
   "source": [
    "cells = [\n",
    "  [1,2,11,10],\n",
    "  [2,3,12,11],\n",
    "  [3,4,13,12],\n",
    "  [4,5,14,13],\n",
    "  [5,6,15,14],\n",
    "  [6,7,16,15],\n",
    "  [7,8,17,16],\n",
    "  [8,9,18,17],\n",
    "  [9,10,1,18]\n",
    "]"
   ]
  },
  {
   "cell_type": "code",
   "execution_count": 13,
   "metadata": {
    "collapsed": false
   },
   "outputs": [
    {
     "data": {
      "text/plain": [
       "'creazione del tetto'"
      ]
     },
     "execution_count": 13,
     "metadata": {},
     "output_type": "execute_result"
    }
   ],
   "source": [
    "\"\"\"creazione del tetto\"\"\""
   ]
  },
  {
   "cell_type": "code",
   "execution_count": 14,
   "metadata": {
    "collapsed": true
   },
   "outputs": [],
   "source": [
    "roof = MKPOL([vertex, cells,[1]])\n",
    "roof = TEXTURE([textureRoof, TRUE, FALSE, 1, 1, 0, 6, 6])(OFFSET([spessore, spessore, spessore])(SKEL_2(roof)))"
   ]
  },
  {
   "cell_type": "code",
   "execution_count": 15,
   "metadata": {
    "collapsed": false
   },
   "outputs": [
    {
     "data": {
      "text/plain": [
       "'creazione del terrazzo'"
      ]
     },
     "execution_count": 15,
     "metadata": {},
     "output_type": "execute_result"
    }
   ],
   "source": [
    "\"\"\"creazione del terrazzo\"\"\""
   ]
  },
  {
   "cell_type": "code",
   "execution_count": 16,
   "metadata": {
    "collapsed": true
   },
   "outputs": [],
   "source": [
    "ground = MKPOL([vertex, [[10,11,12,17,18],[12,13,17],[13,14,15,16,17]],[1]])\n",
    "ground = TEXTURE([textureGround, TRUE, FALSE, 1, 1, 0, 6, 6])(OFFSET([spessore, spessore, spessore])(SKEL_2(ground)))"
   ]
  },
  {
   "cell_type": "code",
   "execution_count": 17,
   "metadata": {
    "collapsed": false
   },
   "outputs": [
    {
     "data": {
      "text/plain": [
       "'unione di tetto e terrazzo'"
      ]
     },
     "execution_count": 17,
     "metadata": {},
     "output_type": "execute_result"
    }
   ],
   "source": [
    "\"\"\"unione di tetto e terrazzo\"\"\""
   ]
  },
  {
   "cell_type": "code",
   "execution_count": 18,
   "metadata": {
    "collapsed": true
   },
   "outputs": [],
   "source": [
    "completeRoof = STRUCT([roof, ground])"
   ]
  },
  {
   "cell_type": "code",
   "execution_count": 19,
   "metadata": {
    "collapsed": false
   },
   "outputs": [
    {
     "data": {
      "text/plain": [
       "<pyplasm.xgepy.Hpc; proxy of <Swig Object of type 'std::shared_ptr< Hpc > *' at 0x045F5B00> >"
      ]
     },
     "execution_count": 19,
     "metadata": {},
     "output_type": "execute_result"
    }
   ],
   "source": [
    "VIEW(completeRoof)"
   ]
  },
  {
   "cell_type": "code",
   "execution_count": null,
   "metadata": {
    "collapsed": true
   },
   "outputs": [],
   "source": []
  }
 ],
 "metadata": {
  "kernelspec": {
   "display_name": "Python 2",
   "language": "python",
   "name": "python2"
  },
  "language_info": {
   "codemirror_mode": {
    "name": "ipython",
    "version": 2
   },
   "file_extension": ".py",
   "mimetype": "text/x-python",
   "name": "python",
   "nbconvert_exporter": "python",
   "pygments_lexer": "ipython2",
   "version": "2.7.3"
  }
 },
 "nbformat": 4,
 "nbformat_minor": 1
}
