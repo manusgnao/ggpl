{
 "cells": [
  {
   "cell_type": "code",
   "execution_count": 1,
   "metadata": {
    "collapsed": false
   },
   "outputs": [
    {
     "name": "stdout",
     "output_type": "stream",
     "text": [
      "Evaluating fenvs.py..\n",
      "...fenvs.py imported in 0.00768040344157 seconds\n"
     ]
    }
   ],
   "source": [
    "from pyplasm import *"
   ]
  },
  {
   "cell_type": "code",
   "execution_count": 2,
   "metadata": {
    "collapsed": true
   },
   "outputs": [],
   "source": [
    "import csv"
   ]
  },
  {
   "cell_type": "code",
   "execution_count": 3,
   "metadata": {
    "collapsed": false
   },
   "outputs": [
    {
     "data": {
      "text/plain": [
       "\"\\nweightBeams ---> lunghezza delle travi tra i pilastri dell'edificio\\nheightPilars ---> lunghezza dei pilastri dell'edificio\\nfloorDepth ---> distanza tra un piano e l'altro all'interno dell'edificio\\npilarWeight ---> larghezza di un pilastro\\nbeamWeight ---> larghezza delle travi, sempre la meta' dei pilastri in modo \\n\\t\\t\\t\\t che una trave possa sempre poggiare su un pilastro\\n\""
      ]
     },
     "execution_count": 3,
     "metadata": {},
     "output_type": "execute_result"
    }
   ],
   "source": [
    "\"\"\"\n",
    "weightBeams ---> lunghezza delle travi tra i pilastri dell'edificio\n",
    "heightPilars ---> lunghezza dei pilastri dell'edificio\n",
    "floorDepth ---> distanza tra un piano e l'altro all'interno dell'edificio\n",
    "pilarWeight ---> larghezza di un pilastro\n",
    "beamWeight ---> larghezza delle travi, sempre la meta' dei pilastri in modo \n",
    "\t\t\t\t che una trave possa sempre poggiare su un pilastro\n",
    "\"\"\""
   ]
  },
  {
   "cell_type": "code",
   "execution_count": 4,
   "metadata": {
    "collapsed": true
   },
   "outputs": [],
   "source": [
    "weightBeams = [5.0, 2.5, 5.0]"
   ]
  },
  {
   "cell_type": "code",
   "execution_count": 5,
   "metadata": {
    "collapsed": true
   },
   "outputs": [],
   "source": [
    "heightPilars = [4.0, 3.5, 2.0]"
   ]
  },
  {
   "cell_type": "code",
   "execution_count": 6,
   "metadata": {
    "collapsed": true
   },
   "outputs": [],
   "source": [
    "floorDepth = [2.0, 3.0, 3.0, 3.0, 3.0, 3.0, 5.0]"
   ]
  },
  {
   "cell_type": "code",
   "execution_count": 7,
   "metadata": {
    "collapsed": true
   },
   "outputs": [],
   "source": [
    "pilarWeight = 0.5"
   ]
  },
  {
   "cell_type": "code",
   "execution_count": 8,
   "metadata": {
    "collapsed": true
   },
   "outputs": [],
   "source": [
    "beamWeight = pilarWeight/2.0"
   ]
  },
  {
   "cell_type": "code",
   "execution_count": 9,
   "metadata": {
    "collapsed": true
   },
   "outputs": [],
   "source": [
    "with open('frame_data_435861.csv', 'rb') as csvfile:\n",
    "    dialect = csv.Sniffer().sniff(csvfile.read(1024))\n",
    "    csvfile.seek(0)\n",
    "    reader = csv.reader(csvfile, dialect)"
   ]
  },
  {
   "cell_type": "code",
   "execution_count": 10,
   "metadata": {
    "collapsed": false
   },
   "outputs": [
    {
     "data": {
      "text/plain": [
       "\"\\ninizializzo una struttura vuota in cui verra' costruito il telaio\\n\""
      ]
     },
     "execution_count": 10,
     "metadata": {},
     "output_type": "execute_result"
    }
   ],
   "source": [
    "\"\"\"\n",
    "inizializzo una struttura vuota in cui verra' costruito il telaio\n",
    "\"\"\""
   ]
  },
  {
   "cell_type": "code",
   "execution_count": 11,
   "metadata": {
    "collapsed": true
   },
   "outputs": [],
   "source": [
    "pilar0 = CUBOID([0,0,0])\n",
    "start = STRUCT([pilar0])"
   ]
  },
  {
   "cell_type": "code",
   "execution_count": 12,
   "metadata": {
    "collapsed": false
   },
   "outputs": [
    {
     "data": {
      "text/plain": [
       "\"\\nfunzione ricorsiva che crea l'intera struttura andando a creare un piano sull'altro\\n\""
      ]
     },
     "execution_count": 12,
     "metadata": {},
     "output_type": "execute_result"
    }
   ],
   "source": [
    "\"\"\"\n",
    "funzione ricorsiva che crea l'intera struttura andando a creare un piano sull'altro\n",
    "\"\"\""
   ]
  },
  {
   "cell_type": "code",
   "execution_count": 13,
   "metadata": {
    "collapsed": true
   },
   "outputs": [],
   "source": [
    "def ggpl_bone_structure(heightPilarTot, beamWeightTot, floorDepthTot, x, z, y, totalStruct):\n",
    "\tif  z < len(heightPilars):\n",
    "\t\tpilar1 = CUBOID([pilarWeight,pilarWeight,heightPilars[z]])\n",
    "\t\tpilarBeam1 = STRUCT([T(1)(floorDepthTot),T(2)(beamWeightTot),T(3)(heightPilarTot), pilar1])\n",
    "\t\tbeam1 = CUBOID([beamWeight,weightBeams[y],beamWeight])\n",
    "\t\tbeam1Next = STRUCT([T([1,2,3])([beamWeight/2.0+floorDepthTot, (3.0*pilarWeight/4.0)+beamWeightTot, heightPilarTot+heightPilars[z]]), beam1])\n",
    "\t\tif  x < len(floorDepth):\n",
    "\t\t\ttotalStruct = STRUCT([totalStruct,pilarBeam1,beam1Next])\n",
    "\t\t\tbeam2 = CUBOID([floorDepth[x],beamWeight,beamWeight])\n",
    "\t\t\tbeam2Next = STRUCT([T([1,2,3])([beamWeight/2.0+floorDepthTot, (pilarWeight/4.0)+beamWeightTot, heightPilarTot+heightPilars[z]]), beam2])\n",
    "\t\t\tbeamWeightTot=beamWeightTot+weightBeams[y]+(pilarWeight/2.0)\n",
    "\t\t\tif y < len(weightBeams) - 1:\n",
    "\t\t\t\ty=y+1\n",
    "\t\t\t\ttotalStruct = STRUCT([totalStruct,beam2Next])\n",
    "\t\t\t\treturn ggpl_bone_structure(heightPilarTot, beamWeightTot, floorDepthTot, x, z, y, totalStruct)\n",
    "\t\t\telse:\n",
    "\t\t\t\tpilar1Next = STRUCT([T(1)(floorDepthTot),T(2)(beamWeightTot),T(3)(heightPilarTot), pilar1])\n",
    "\t\t\t\tbeam2Next = STRUCT([T([1,2,3])([beamWeight/2.0+floorDepthTot, (pilarWeight/4.0)+beamWeightTot,heightPilarTot+heightPilars[z]]), beam2])\n",
    "\t\t\t\ttotalStruct = STRUCT([totalStruct,beam2Next,pilar1Next,beam2Next])\n",
    "\t\t\t\tfloorDepthTot = floorDepthTot + floorDepth[x]\n",
    "\t\t\t\tx=x+1\n",
    "\t\t\t\treturn ggpl_bone_structure(heightPilarTot, 0, floorDepthTot, x, z, 0, totalStruct)\n",
    "\t\telse:\n",
    "\t\t\theightPilarTot = heightPilarTot + heightPilars[z] + beamWeight\n",
    "\t\t\tz=z+1\n",
    "\t\t\treturn ggpl_bone_structure(heightPilarTot, 0, 0, 0, z, 0, totalStruct)\n",
    "\telse:\n",
    "\t\tdistance = 0\n",
    "\t\tfor p in floorDepth:\n",
    "\t\t\tdistance = distance + p\n",
    "\t\treturn createLastFrame(distance, 0, 0, 0, 0, totalStruct)"
   ]
  },
  {
   "cell_type": "code",
   "execution_count": 14,
   "metadata": {
    "collapsed": false
   },
   "outputs": [
    {
     "data": {
      "text/plain": [
       "'\\nfunzione ricorsiva che crea il telaio di chiusura della struttura\\n'"
      ]
     },
     "execution_count": 14,
     "metadata": {},
     "output_type": "execute_result"
    }
   ],
   "source": [
    "\"\"\"\n",
    "funzione ricorsiva che crea il telaio di chiusura della struttura\n",
    "\"\"\""
   ]
  },
  {
   "cell_type": "code",
   "execution_count": 15,
   "metadata": {
    "collapsed": true
   },
   "outputs": [],
   "source": [
    "def createLastFrame(distance, heightPilarTot, beamWeightTot, i, y, totalStruct):\n",
    "\tpilar1 = CUBOID([pilarWeight,pilarWeight,heightPilars[y]])\n",
    "\tpilarBeam1 = STRUCT([T(1)(distance),T(2)(beamWeightTot),T(3)(heightPilarTot), pilar1])\n",
    "\tbeam1 = CUBOID([beamWeight,weightBeams[i],beamWeight])\n",
    "\tbeam1Next = STRUCT([T([1,2,3])([beamWeight/2.0+distance, (3.0*pilarWeight/4.0)+beamWeightTot,heightPilarTot+heightPilars[y]]), beam1])\n",
    "\tbeamWeightTot=beamWeightTot+weightBeams[i]+(pilarWeight/2.0)\n",
    "\tif i == len(weightBeams) - 1:\n",
    "\t\tpilar1Next = STRUCT([T(1)(distance),T(2)(beamWeightTot),T(3)(heightPilarTot), pilar1])\n",
    "\t\theightPilarTot = heightPilarTot + heightPilars[y] + beamWeight\n",
    "\t\ttotalStruct = STRUCT([totalStruct,pilarBeam1,beam1Next,pilar1Next])\n",
    "\t\tif y != len(heightPilars) - 1:\n",
    "\t\t\ty=y+1\n",
    "\t\t\treturn createLastFrame(distance, heightPilarTot, 0, 0, y, totalStruct)\n",
    "\t\telse:\n",
    "\t\t\tVIEW(totalStruct)\n",
    "\telse:\n",
    "\t\ti=i+1\n",
    "\t\ttotalStruct = STRUCT([totalStruct,pilarBeam1,beam1Next])\n",
    "\t\treturn createLastFrame(distance, heightPilarTot, beamWeightTot, i, y, totalStruct)"
   ]
  },
  {
   "cell_type": "code",
   "execution_count": 16,
   "metadata": {
    "collapsed": true
   },
   "outputs": [],
   "source": [
    "ggpl_bone_structure(0, 0, 0, 0, 0, 0, start)"
   ]
  },
  {
   "cell_type": "code",
   "execution_count": null,
   "metadata": {
    "collapsed": true
   },
   "outputs": [],
   "source": []
  }
 ],
 "metadata": {
  "kernelspec": {
   "display_name": "Python 2",
   "language": "python",
   "name": "python2"
  },
  "language_info": {
   "codemirror_mode": {
    "name": "ipython",
    "version": 2
   },
   "file_extension": ".py",
   "mimetype": "text/x-python",
   "name": "python",
   "nbconvert_exporter": "python",
   "pygments_lexer": "ipython2",
   "version": "2.7.3"
  }
 },
 "nbformat": 4,
 "nbformat_minor": 1
}
