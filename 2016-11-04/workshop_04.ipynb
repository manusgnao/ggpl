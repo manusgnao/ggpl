{
 "cells": [
  {
   "cell_type": "code",
   "execution_count": 1,
   "metadata": {
    "collapsed": false
   },
   "outputs": [
    {
     "data": {
      "text/plain": [
       "' WORKSHOP 04 '"
      ]
     },
     "execution_count": 1,
     "metadata": {},
     "output_type": "execute_result"
    }
   ],
   "source": [
    "\"\"\" WORKSHOP 04 \"\"\""
   ]
  },
  {
   "cell_type": "code",
   "execution_count": 2,
   "metadata": {
    "collapsed": false
   },
   "outputs": [
    {
     "name": "stdout",
     "output_type": "stream",
     "text": [
      "Evaluating fenvs.py..\n",
      "...fenvs.py imported in 0.0078147375942 seconds\n"
     ]
    }
   ],
   "source": [
    "from pyplasm import *"
   ]
  },
  {
   "cell_type": "code",
   "execution_count": 8,
   "metadata": {
    "collapsed": true
   },
   "outputs": [],
   "source": [
    "depth = 0.2"
   ]
  },
  {
   "cell_type": "code",
   "execution_count": 3,
   "metadata": {
    "collapsed": true
   },
   "outputs": [],
   "source": [
    "\"\"\"le 3 dimensioni del tetto\"\"\"\n",
    "x = [1.0,7.0,11.0,15.0,21.0]\n",
    "y = [2.0,7.0,12.0,17.0]\n",
    "z = [0.0, 5.0]"
   ]
  },
  {
   "cell_type": "code",
   "execution_count": 4,
   "metadata": {
    "collapsed": true
   },
   "outputs": [],
   "source": [
    "\"\"\"vertici e celle rappresentati sul piano cartesiano\"\"\"\n",
    "verts = [[x[1],y[0],z[0]],[x[2],y[0],z[1]],[x[3],y[0],z[0]],[x[3],y[1],z[0]],[x[4],y[1],z[0]],[x[4],y[2],z[1]],[x[4],y[3],z[0]],[x[0],y[3],z[0]],[x[0],y[2],z[1]],[x[0],y[1],z[0]],[x[1],y[1],z[0]],[x[2],y[2],z[1]],[x[4],y[2],z[0]],[x[0],y[2],z[0]],[x[2],y[2],z[0]],[x[2],y[3],z[0]],[x[2],y[0],z[0]]]\n",
    "cells = [[8,7,9,6],[9,10,11,12],[12,4,5,6],[12,11,1,2],[12,2,3,4],[10,8],[7,5],[14,9],[13,6],[1,3],[12,15],[12,16],[13,14],[2,17]]"
   ]
  },
  {
   "cell_type": "code",
   "execution_count": 5,
   "metadata": {
    "collapsed": true
   },
   "outputs": [],
   "source": [
    "\"\"\"replica semplificata del modello da ricreare\"\"\"\n",
    "simpleStruct = MKPOL([verts, cells,[1]])"
   ]
  },
  {
   "cell_type": "code",
   "execution_count": 10,
   "metadata": {
    "collapsed": false
   },
   "outputs": [],
   "source": [
    "\"\"\"creazione del telaio del tetto\"\"\"\n",
    "structRoof = OFFSET([depth, depth, depth])(SKEL_1(simpleStruct))"
   ]
  },
  {
   "cell_type": "code",
   "execution_count": 11,
   "metadata": {
    "collapsed": true
   },
   "outputs": [],
   "source": [
    "\"\"\"creazione delle celle che dovranno essere poggiate sull'impalcatura del tetto\"\"\"\n",
    "translatedRoof = STRUCT([T([3])([depth*2])(simpleStruct)])"
   ]
  },
  {
   "cell_type": "code",
   "execution_count": 12,
   "metadata": {
    "collapsed": true
   },
   "outputs": [],
   "source": [
    "\"\"\"estrazione dei punti che serviranno a coprire precisamente il telaio\"\"\"\n",
    "points = UKPOL(translatedRoof)\n",
    "newVerts = points[0]\n",
    "newCells = points[1]"
   ]
  },
  {
   "cell_type": "code",
   "execution_count": 13,
   "metadata": {
    "collapsed": true
   },
   "outputs": [],
   "source": [
    "\"\"\"copertura del telaio\"\"\"\n",
    "newVerts = [[x[0],y[2],z[1]+depth*2],[x[4],y[3]+depth,z[0]+depth],[x[4],y[2],z[1]+depth*2],[x[0],y[3]+depth,z[0]+depth],[x[0],y[1]-depth,z[0]+depth],[x[2],y[2],z[1]+depth*2],[x[1]-depth,y[1]-depth,z[0]+depth],[x[0],y[2],z[1]+depth*2],[x[4],y[1]-depth,z[0]+depth],[x[2],y[2],z[1]+depth*2],[x[3]+depth,y[1]-depth,z[0]+depth],[x[4],y[2],z[1]+depth*2],[x[2],y[0],z[1]+depth*2],[x[1]-depth,y[1]-depth,z[0]+depth],[x[1]-depth,y[0],z[0]+depth],[x[2],y[2],z[1]+depth*2],[x[2],y[2],z[1]+depth*2],[x[3]+depth,y[0],z[0]+depth],[x[3]+depth,y[1]-depth,z[0]+depth],[x[2],y[0],z[1]+depth*2],[x[0],y[3]+depth,z[0]+depth],[x[0],y[1]-depth,z[0]+depth],[x[4],y[3]+depth,z[0]+depth],[x[4],y[1]-depth,z[0]+depth],[x[0],y[2],z[1]+depth*2],[x[0],y[2],z[0]+depth],[x[4],y[2],z[1]+depth*2],[x[4],y[2],z[0]+depth],[x[3]+depth,y[0],z[0]+depth],[x[1]-depth,y[0],z[0]+depth],[x[2],y[2],z[1]+depth*2],[x[2],y[2],z[0]+depth],[x[2],y[3]+depth,z[0]+depth],[x[2],y[2],z[1]+depth*2],[x[4],y[2],z[0]+depth],[x[0],y[2],z[0]+depth],[x[2],y[0],z[1]+depth*2],[x[2],y[0],z[0]+depth]]"
   ]
  },
  {
   "cell_type": "code",
   "execution_count": 17,
   "metadata": {
    "collapsed": true
   },
   "outputs": [],
   "source": [
    "\"\"\"creo la copertura adattata al telaio in modo che lo ricopra completamente e la coloro di rosso\"\"\"\n",
    "panel = MKPOL([newVerts, newCells,[1]])\n",
    "panel = COLOR(RED)(OFFSET([depth, depth, depth])(SKEL_2(panel)))"
   ]
  },
  {
   "cell_type": "code",
   "execution_count": 18,
   "metadata": {
    "collapsed": true
   },
   "outputs": [],
   "source": [
    "\"\"\"creazione del tetto: le celle sono poggiate sopra il telaio\"\"\"\n",
    "roof = STRUCT([structRoof, panel])"
   ]
  },
  {
   "cell_type": "code",
   "execution_count": 19,
   "metadata": {
    "collapsed": false
   },
   "outputs": [
    {
     "data": {
      "text/plain": [
       "<pyplasm.xgepy.Hpc; proxy of <Swig Object of type 'std::shared_ptr< Hpc > *' at 0x03C4F398> >"
      ]
     },
     "execution_count": 19,
     "metadata": {},
     "output_type": "execute_result"
    }
   ],
   "source": [
    "VIEW(roof)"
   ]
  },
  {
   "cell_type": "code",
   "execution_count": null,
   "metadata": {
    "collapsed": true
   },
   "outputs": [],
   "source": []
  }
 ],
 "metadata": {
  "kernelspec": {
   "display_name": "Python 2",
   "language": "python",
   "name": "python2"
  },
  "language_info": {
   "codemirror_mode": {
    "name": "ipython",
    "version": 2
   },
   "file_extension": ".py",
   "mimetype": "text/x-python",
   "name": "python",
   "nbconvert_exporter": "python",
   "pygments_lexer": "ipython2",
   "version": "2.7.3"
  }
 },
 "nbformat": 4,
 "nbformat_minor": 1
}
