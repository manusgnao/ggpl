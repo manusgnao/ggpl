{
 "cells": [
  {
   "cell_type": "code",
   "execution_count": 1,
   "metadata": {
    "collapsed": false
   },
   "outputs": [
    {
     "name": "stdout",
     "output_type": "stream",
     "text": [
      "Evaluating fenvs.py..\n",
      "...fenvs.py imported in 0.00801453310215 seconds\n"
     ]
    }
   ],
   "source": [
    "\"\"\"workshop 10\"\"\"\n",
    "from pyplasm import *\n",
    "import numpy as np\n",
    "import sys, os"
   ]
  },
  {
   "cell_type": "code",
   "execution_count": 2,
   "metadata": {
    "collapsed": true
   },
   "outputs": [],
   "source": [
    "\"\"\"elenco di texture che verranno usate\"\"\"\n",
    "\n",
    "woodTexture = \"texture/wood.png\"\n",
    "wallTexture = \"texture/wall.jpg\"\n",
    "stoneTexture = \"texture/stone.jpg\"\n",
    "metalTexture = \"texture/metal.jpg\"\n",
    "glassTexture = \"texture/glass.jpg\"\n",
    "roofTexture = \"texture/roof.jpg\""
   ]
  },
  {
   "cell_type": "code",
   "execution_count": 3,
   "metadata": {
    "collapsed": true
   },
   "outputs": [],
   "source": [
    "\"\"\"struttura iniziale vuota che viene usata per costruire ogni pezzo\"\"\"\n",
    "\n",
    "zero = CUBOID([.0,.0,.0])\n",
    "initStruct = STRUCT([zero])\n",
    "levelHeight = [30.0,30.0,20.0,30.0,30.0,20.0]\n"
   ]
  },
  {
   "cell_type": "code",
   "execution_count": 4,
   "metadata": {
    "collapsed": true
   },
   "outputs": [],
   "source": [
    "\"\"\"funzione che conta quanti file ha una directory\"\"\"\n",
    "\n",
    "def countFileDirectory(path):\n",
    "  i = 0\n",
    "  for name in os.listdir(path):\n",
    "      if not name.startswith('.'):\n",
    "        i = i + 1\n",
    "  return i\n"
   ]
  },
  {
   "cell_type": "code",
   "execution_count": 5,
   "metadata": {
    "collapsed": true
   },
   "outputs": [],
   "source": [
    "\"\"\" funzione che legge il file svg\"\"\"\n",
    "\n",
    "def readSvg(l,level,path):\n",
    "  file = open(\"elements/\"+path+\"/lines/level-\"+str(l)+\".lines\",\"r\")\n",
    "  data = file.read()\n",
    "  n = countFileDirectory(\"elements/\"+path+\"/lines/\")\n",
    "  file.close()\n",
    "  d = data.splitlines()\n",
    "  level = level + [d]\n",
    "  if l!=n-1:\n",
    "    return readSvg(l+1,level,path)\n",
    "  else:\n",
    "    return level\n"
   ]
  },
  {
   "cell_type": "code",
   "execution_count": 6,
   "metadata": {
    "collapsed": true
   },
   "outputs": [],
   "source": [
    "\"\"\"generazione dei livelli\n",
    "base      --> perimetro della casa\n",
    "external  --> livello che contiene le pareti esterne, con i fori per porte e finestre\n",
    "internal  --> contiene i muri della casa con i fori per le porte\n",
    "doors     --> contiene le porte, da inserire nei fori dei muri\n",
    "windows   --> contiene le finestre da inserire nei fori del muro\n",
    "stair    --> contiene il rettangolo che conterra' la scala\n",
    "\"\"\"\n",
    "\n",
    "baseLevel = readSvg(0,[],\"base\")\n",
    "externalLevel = readSvg(0,[],\"external\")\n",
    "internalLevel = readSvg(0,[],\"internal\")\n",
    "doorsLevel = readSvg(0,[],\"doors\")\n",
    "windowsLevel = readSvg(0,[],\"windows\")\n",
    "stairLevel = readSvg(0,[],\"stair\")\n"
   ]
  },
  {
   "cell_type": "code",
   "execution_count": 7,
   "metadata": {
    "collapsed": true
   },
   "outputs": [],
   "source": [
    "\"\"\"funzione che converte i punti di un file .lines in un array\"\"\"\n",
    "\n",
    "def convertLines(l,i, params):\n",
    "  stringLine = params[l][i]\n",
    "  splitLine = stringLine.split(\",\")\n",
    "  arrayLine = np.array(splitLine, dtype=float)\n",
    "  return arrayLine\n"
   ]
  },
  {
   "cell_type": "code",
   "execution_count": 8,
   "metadata": {
    "collapsed": true
   },
   "outputs": [],
   "source": [
    "\"\"\"funzione che costruisce il piano terra a partire dal file della cartella base\"\"\"\n",
    "\n",
    "def buildFirstFloor(i,structure):\n",
    "  if i < len(baseLevel[0]):\n",
    "    params = convertLines(0,i,baseLevel)\n",
    "    pol = POLYLINE([[params[0],params[1]],[params[2],params[3]]])\n",
    "    offset = OFFSET([4.0, 0.0, 2.0])(pol)\n",
    "    struct = STRUCT([offset, structure])\n",
    "    return buildFirstFloor(i+1,struct)\n",
    "  else:\n",
    "    structure = SOLIDIFY(SKEL_2(structure))\n",
    "    structure = TEXTURE([woodTexture, TRUE, FALSE, 1, 1, 0, 1, 1])(structure)\n",
    "    return structure"
   ]
  },
  {
   "cell_type": "code",
   "execution_count": 9,
   "metadata": {
    "collapsed": true
   },
   "outputs": [],
   "source": [
    "\"\"\" funzione che costruisce le pareti esterne a partire dai file della cartella external\n",
    "    al livello terreno viene posta una copertura in pietra e sopra una texture del muro esterno\n",
    "\"\"\"\n",
    "\n",
    "def buildExternal(l,i,h,structure):\n",
    "  if l <= len(externalLevel)-1:\n",
    "    if i < len(externalLevel[l]):\n",
    "      params = convertLines(l,i,externalLevel)\n",
    "      pol = MKPOL([[[params[0],params[1],0.0],[params[0],params[3],0.0],[params[2],params[1],0.0],[params[2],params[3],0.0]],[[1,2,3,4]],[1]])\n",
    "      offset = OFFSET([3.0, 3.0, levelHeight[l]])(pol)\n",
    "      if l==0:\n",
    "        texture = TEXTURE([stoneTexture, TRUE, FALSE, 1, 1, 0, 12, 1])(offset)\n",
    "      else:\n",
    "        if l==3:\n",
    "          texture = TEXTURE([wallTexture, TRUE, FALSE, 1, 1, 0, 14, 1])(offset)\n",
    "        else:\n",
    "          texture = TEXTURE([wallTexture, TRUE, FALSE, 1, 1, 0, 6, 1])(offset)\n",
    "      translated = STRUCT([T(3)(h), texture])\n",
    "      struct = STRUCT([translated, structure])\n",
    "      return buildExternal(l,i+1,h,struct)\n",
    "    else:\n",
    "      h = h + levelHeight[l]\n",
    "      return buildExternal(l+1,0,h,structure)\n",
    "  else:\n",
    "    return structure"
   ]
  },
  {
   "cell_type": "code",
   "execution_count": 10,
   "metadata": {
    "collapsed": true
   },
   "outputs": [],
   "source": [
    "\"\"\"funzione che crea i muri interni di tutti e due i piani e i fori per le porte \n",
    "le prende dal file della cartella internal\"\"\"\n",
    "\n",
    "def buildIntenal(l,i,h,structure):\n",
    "  if l <= len(internalLevel)-1:\n",
    "    if i < len(internalLevel[l]):\n",
    "      params = convertLines(l,i,internalLevel)\n",
    "      pol = MKPOL([[[params[0],params[1],0.0],[params[0],params[3],0.0],[params[2],params[1],0.0],[params[2],params[3],0.0]],[[1,2,3,4]],[1]])\n",
    "      offset = OFFSET([1.0, 1.0, levelHeight[l]])(pol)\n",
    "      texture = TEXTURE([wallTexture, TRUE, FALSE, 1, 1, 0, 2, 1])(offset)\n",
    "      translated = STRUCT([T(3)(h), texture])\n",
    "      struct = STRUCT([translated, structure])\n",
    "      return buildIntenal(l,i+1,h,struct)\n",
    "    else:\n",
    "      h = h + levelHeight[l]\n",
    "      return buildIntenal(l+1,0,h,structure)\n",
    "  else:\n",
    "    return structure"
   ]
  },
  {
   "cell_type": "code",
   "execution_count": 11,
   "metadata": {
    "collapsed": true
   },
   "outputs": [],
   "source": [
    "\"\"\"funzione che costruisce una porta in legno\"\"\"\n",
    "\n",
    "def buildOneDoor(elem, j, h, door):\n",
    "  if j < 7.5:\n",
    "    build = MKPOL([[[elem[0],elem[1],0.0],[elem[2],elem[3],0.0]],[[1,2]],[1]])\n",
    "    buildOffset = OFFSET([3.5, 3.5, 8.5])(build)\n",
    "    buildTexture = TEXTURE([woodTexture, TRUE, FALSE, 1, 1, 0, 6, 1])(buildOffset)\n",
    "    buildTras = STRUCT([T([3])([h]), buildTexture])\n",
    "    h = h + 8.5\n",
    "    door = STRUCT([buildTras,door])\n",
    "    return buildOneDoor(elem, j+1, h, door)\n",
    "  else:\n",
    "    return door"
   ]
  },
  {
   "cell_type": "code",
   "execution_count": 12,
   "metadata": {
    "collapsed": true
   },
   "outputs": [],
   "source": [
    "\"\"\"funzione che costruisce una manglia e la inserise a meta' altezza della porta\"\"\"\n",
    "\n",
    "def createHandle(elem,structure):\n",
    "  handle = MKPOL([[[elem[0],elem[1],0.0],[elem[2],elem[3],0.0]],[[1,2]],[1]])\n",
    "  handle0 = OFFSET([8.0, 1.0, 1.0])(handle)\n",
    "  if (elem[0]-elem[2]<1.0) & (elem[0]-elem[2]>-1.0):\n",
    "    handle_0 = STRUCT([T([1,2,3])([-2.0,1.0,31.0]), handle0])\n",
    "    handle_1 = STRUCT([T([1,2,3])([-2.0,3.0,31.0]), handle0])\n",
    "    handle1 = OFFSET([1.0, 1.5, 1.0])(handle)\n",
    "    handle_2 = STRUCT([T([1,2,3])([5.0,1.0,31.0]), handle1])\n",
    "    handle_3 = STRUCT([T([1,2,3])([5.0,6.0,31.0]), handle1])\n",
    "    handle_01 = DIFF([handle_0,handle_1])\n",
    "    handle_23 = DIFF([handle_2,handle_3])\n",
    "    handle_23_2 = STRUCT([T([1])([-8.0]), handle_23])\n",
    "  else:\n",
    "    handle = MKPOL([[[elem[0],elem[1],0.0],[elem[2],elem[3],0.0]],[[1,2]],[1]])\n",
    "    handle0 = OFFSET([1.0, 8.0, 1.0])(handle)\n",
    "    handle_0 = STRUCT([T([1,2,3])([1.0,-2.0,31.0]), handle0])\n",
    "    handle_1 = STRUCT([T([1,2,3])([3.0,-2.0,31.0]), handle0])\n",
    "    handle1 = OFFSET([1.0, 1.5, 1.0])(handle)\n",
    "    handle_2 = STRUCT([T([1,2,3])([1.0,5.0,31.0]), handle1])\n",
    "    handle_3 = STRUCT([T([1,2,3])([6.0,5.0,31.0]), handle1])\n",
    "    handle_01 = DIFF([handle_0,handle_1])\n",
    "    handle_23 = DIFF([handle_2,handle_3])\n",
    "    handle_23_2 = STRUCT([T([2])([-8.0]), handle_23])\n",
    "  handle_all = STRUCT([handle_01,handle_23,handle_23_2])\n",
    "  handle_all = TEXTURE([metalTexture, TRUE, FALSE, 1, 1, 0, 1, 1])(handle_all)\n",
    "  structure = STRUCT([structure,handle_all])\n",
    "  return structure"
   ]
  },
  {
   "cell_type": "code",
   "execution_count": 13,
   "metadata": {
    "collapsed": true
   },
   "outputs": [],
   "source": [
    "\"\"\" funzione che grazie alla funzione che costruisce una porta e al file della cartella doors costruisce\n",
    "    tutte le porte di entrambi i piani\"\"\"\n",
    "\n",
    "def buildAllDoors(l,i,h,structure):\n",
    "  if l <= len(doorsLevel)-1:\n",
    "    if i < len(doorsLevel[l]):\n",
    "      params = convertLines(l,i,doorsLevel)\n",
    "      d = buildOneDoor(params, 0, h, initStruct)\n",
    "      hand = createHandle(params,initStruct)\n",
    "      hand = STRUCT([T([3])([h]), hand])\n",
    "      finalStruct = STRUCT([d, structure, hand])\n",
    "      return buildAllDoors(l,i+1,h,finalStruct)\n",
    "    else:\n",
    "      h = h + 80.0\n",
    "      return buildAllDoors(l+1,0,h,structure)\n",
    "  else:\n",
    "    return structure"
   ]
  },
  {
   "cell_type": "code",
   "execution_count": 14,
   "metadata": {
    "collapsed": true
   },
   "outputs": [],
   "source": [
    "\"\"\" funzione che costruisce una finestra di vetro trasparente con una cornice di legno\"\"\"\n",
    "\n",
    "def buildOneWindow(params,h):\n",
    "  q1 = MKPOL([[[params[0],params[1],0.0],[params[2],params[3],0.0]],[[1,2]],[1]])\n",
    "  q1 = OFFSET([3.5, 3.5, 30.0])(q1)\n",
    "  q1 = TEXTURE([glassTexture, TRUE, FALSE, 1, 1, 0, 1, 1])(q1)\n",
    "  q1 = MATERIAL([0,1.36,2.55,0.5,  0,1,0,0.5, 0,0,1,0, 0,0,0,0.5, 100])(q1)\n",
    "  if (params[0]-params[2]<1.0) & (params[0]-params[2]>-1.0):\n",
    "    if params[1]<params[3]:\n",
    "      q2 = MKPOL([[[params[0],params[1]-2.0,0.0],[params[2],params[3]+2.0,0.0]],[[1,2]],[1]])\n",
    "      q2 = OFFSET([3.5, 3.5, 40.0])(q2)\n",
    "    else:\n",
    "      q2 = MKPOL([[[params[0],params[1]+2.0,0.0],[params[2],params[3]-2.0,0.0]],[[1,2]],[1]])\n",
    "      q2 = OFFSET([3.5, 3.5, 40.0])(q2)\n",
    "  if (params[1]-params[3]<1.0) & (params[1]-params[3]>-1.0):\n",
    "    if params[0]<params[2]:\n",
    "      q2 = MKPOL([[[params[0]-2.0,params[1],0.0],[params[2]+2.0,params[3],0.0]],[[1,2]],[1]])\n",
    "      q2 = OFFSET([3.5, 3.5, 40.0])(q2)\n",
    "    else:\n",
    "      q2 = MKPOL([[[params[0]+2.0,params[1],0.0],[params[2]-2.0,params[3],0.0]],[[1,2]],[1]])\n",
    "      q2 = OFFSET([3.5, 3.5, 40.0])(q2)\n",
    "  q2 = STRUCT([T(3)(-3.5), q2])\n",
    "  q2 = TEXTURE([woodTexture, TRUE, FALSE, 1, 1, 0, 1, 1])(q2)\n",
    "  q = DIFFERENCE([q2,q1])\n",
    "  q = TEXTURE([woodTexture, TRUE, FALSE, 1, 1, 0, 1, 1])(q)\n",
    "  allWindow = STRUCT([q,q1])\n",
    "  allWindow = STRUCT([T(3)(h), allWindow])\n",
    "  return allWindow"
   ]
  },
  {
   "cell_type": "code",
   "execution_count": 15,
   "metadata": {
    "collapsed": true
   },
   "outputs": [],
   "source": [
    "\"\"\"funzione che crea tutte le funestre usando la funzione precedente e i file della cartella windows\"\"\"\n",
    "\n",
    "def buildAllWindows(l,i,h,structure):\n",
    "  if l <= len(windowsLevel)-1:\n",
    "    if i < len(windowsLevel[l]):\n",
    "      params = convertLines(l,i,windowsLevel)\n",
    "      w = buildOneWindow(params,h)\n",
    "      finalStruct = STRUCT([w, structure])\n",
    "      return buildAllWindows(l,i+1,h,finalStruct)\n",
    "    else:\n",
    "      h = h + 80.0\n",
    "      return buildAllWindows(l+1,0,h,structure)\n",
    "  else:\n",
    "    return structure"
   ]
  },
  {
   "cell_type": "code",
   "execution_count": 16,
   "metadata": {
    "collapsed": true
   },
   "outputs": [],
   "source": [
    "\"\"\" funzione che costruisce il tetto\n",
    "    viene creata la prima meta' del tetto e poi ribaltata per creare la seconda parte\n",
    "\"\"\"\n",
    "\n",
    "def buildRoof(i,structure):\n",
    "  params = convertLines(0,i,baseLevel)\n",
    "  if i==0:\n",
    "    triangle = MKPOL([[[params[0],params[1],0.0],[params[2],params[3],0.0],[(params[2]+params[0])/2,(params[3]+params[1])/2,60.0]],[[1,2,3]],[1]])\n",
    "    frame = MKPOL([[[params[0],params[1]],[(params[2]+params[0])/2-60.0,(params[3]+params[1])/2]],[[1,2]],[1]])\n",
    "    triangle = OFFSET([-3.0, 0.0, 0.0])(triangle)\n",
    "  else:\n",
    "    triangle = MKPOL([[[params[0],params[1],0.0],[params[2],params[3],0.0],[(params[2]+params[0])/2,(params[3]+params[1])/2,60.0]],[[1,2,3]],[1]])\n",
    "    frame = MKPOL([[[params[0],params[1]],[(params[2]+params[0])/2-60.0,(params[3]+params[1])/2]],[[1,2]],[1]])\n",
    "    triangle = OFFSET([3.0, 0.0, 0.0])(triangle)\n",
    "  triangle = TEXTURE([wallTexture, TRUE, FALSE, 1, 1, 0, 2, 1])(triangle)\n",
    "  height = baseLevel[0][3]\n",
    "  heightSplit = height.split(\",\")\n",
    "  heightNumber = np.array(heightSplit, dtype=float)\n",
    "  height = heightNumber[2] - heightNumber[0]\n",
    "  roof = STRUCT([T([1,3])([heightNumber[0]-8,params[0]-1]),(ROTATE([1,3])(-PI/2)(PROD([frame,Q(height+10)])))])\n",
    "  roof = OFFSET([3.0, 3.0, 3.0])(roof)\n",
    "  roof = TEXTURE([roofTexture, TRUE, FALSE, 1, 1, 0, 1, 1])(roof)\n",
    "  struct = STRUCT([triangle, structure])\n",
    "  struct = STRUCT([roof, struct])\n",
    "  return struct"
   ]
  },
  {
   "cell_type": "code",
   "execution_count": 17,
   "metadata": {
    "collapsed": true
   },
   "outputs": [],
   "source": [
    "def buildSecondFloor(i,base,structure):\n",
    "  if i < len(stairLevel[0]):\n",
    "    params = convertLines(0,i,stairLevel)\n",
    "    pol = POLYLINE([[params[0],params[1]],[params[2],params[3]]])\n",
    "    offset = OFFSET([4.0, 5.5, 2.0])(pol)\n",
    "    s2 = STRUCT([offset, structure])\n",
    "    return buildSecondFloor(i+1,base,s2)\n",
    "  else:\n",
    "    structure = SOLIDIFY(SKEL_2(structure))\n",
    "    structure = DIFF([base,structure])\n",
    "    structure = TEXTURE([woodTexture, TRUE, FALSE, 1, 1, 0, 1, 1])(structure)\n",
    "    return structure"
   ]
  },
  {
   "cell_type": "code",
   "execution_count": 18,
   "metadata": {
    "collapsed": true
   },
   "outputs": [],
   "source": [
    "\"\"\"funzione che crea le scale a partire dal file nella cartella stairs\"\"\"\n",
    "\n",
    "def buildStairs(tempLength,tempHeight,structure):\n",
    "  params = convertLines(0,3,stairLevel)\n",
    "  params2 = convertLines(0,0,stairLevel)\n",
    "  height = 80.0\n",
    "  stepHeight = 5.44\n",
    "  steps=height/stepHeight\n",
    "  steps=height/steps\n",
    "  stepLength = 22.5\n",
    "  length = (params2[2]-params2[0])\n",
    "  build = POLYLINE([[params[0],params[1]],[params[2],params[3]]])\n",
    "  buildOffset = OFFSET([5.0, stepLength, stepHeight])(build)\n",
    "  traslation=STRUCT([T([1,2,3])([0.5,tempLength+stepLength,tempHeight]),buildOffset])\n",
    "  tempLength=tempLength + stepLength/2\n",
    "  tempHeight=tempHeight + stepHeight\n",
    "  structure=STRUCT([traslation,structure])\n",
    "  if tempHeight < height:\n",
    "    return buildStairs(tempLength, tempHeight, structure)\n",
    "  else:\n",
    "    structure = TEXTURE([woodTexture, TRUE, FALSE, 1, 1, 0, 1, 1])(structure)\n",
    "    structure=STRUCT([traslation,structure])\n",
    "    return structure"
   ]
  },
  {
   "cell_type": "code",
   "execution_count": 19,
   "metadata": {
    "collapsed": true
   },
   "outputs": [],
   "source": [
    "\"\"\"funzione finale che assembla i risultati di tutte le funzioni precedenti\"\"\"\n",
    "\n",
    "def buildHouse():\n",
    "  firstFloor = buildFirstFloor(0,initStruct)\n",
    "  secondFloor = buildSecondFloor(0,firstFloor,initStruct)\n",
    "  external = buildExternal(0,0,0.0,initStruct)\n",
    "  internal = buildIntenal(0,0,0.0,initStruct)\n",
    "  doors = buildAllDoors(0,0,0.0,initStruct)\n",
    "  windows = buildAllWindows(0,0,30.0,initStruct)\n",
    "  halfRoof = buildRoof(0,initStruct)\n",
    "  roof_level_2 = buildRoof(2,initStruct)\n",
    "  stairs_level = buildStairs(0.0,0.0,initStruct)\n",
    "  house=STRUCT([firstFloor,T(3)(3.0),external])\n",
    "  house=STRUCT([house,T(3)(3.5),stairs_level])\n",
    "  house=STRUCT([house,T(3)(3.5),internal])\n",
    "  house=STRUCT([house,T(3)(83.0),secondFloor])\n",
    "  house=STRUCT([house,T(3)(163.0),firstFloor])\n",
    "  house=STRUCT([house,T(3)(3.0),doors])\n",
    "  house=STRUCT([house,T(3)(3.0),windows])\n",
    "  house=STRUCT([house,T(3)(165.0),halfRoof])\n",
    "  house=STRUCT([house,T(3)(165.0),roof_level_2])\n",
    "  VIEW(house)"
   ]
  },
  {
   "cell_type": "code",
   "execution_count": 20,
   "metadata": {
    "collapsed": true
   },
   "outputs": [],
   "source": [
    "buildHouse()"
   ]
  },
  {
   "cell_type": "code",
   "execution_count": null,
   "metadata": {
    "collapsed": true
   },
   "outputs": [],
   "source": []
  }
 ],
 "metadata": {
  "kernelspec": {
   "display_name": "Python 2",
   "language": "python",
   "name": "python2"
  },
  "language_info": {
   "codemirror_mode": {
    "name": "ipython",
    "version": 2
   },
   "file_extension": ".py",
   "mimetype": "text/x-python",
   "name": "python",
   "nbconvert_exporter": "python",
   "pygments_lexer": "ipython2",
   "version": "2.7.3"
  }
 },
 "nbformat": 4,
 "nbformat_minor": 1
}
