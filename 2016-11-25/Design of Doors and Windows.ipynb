{
 "cells": [
  {
   "cell_type": "code",
   "execution_count": 2,
   "metadata": {
    "collapsed": false
   },
   "outputs": [
    {
     "data": {
      "text/plain": [
       "' workshop 07 '"
      ]
     },
     "execution_count": 2,
     "metadata": {},
     "output_type": "execute_result"
    }
   ],
   "source": [
    "\"\"\" workshop 07 \"\"\""
   ]
  },
  {
   "cell_type": "code",
   "execution_count": 3,
   "metadata": {
    "collapsed": false
   },
   "outputs": [
    {
     "name": "stdout",
     "output_type": "stream",
     "text": [
      "Evaluating fenvs.py..\n",
      "...fenvs.py imported in 0.00876983954362 seconds\n"
     ]
    }
   ],
   "source": [
    "from pyplasm import *"
   ]
  },
  {
   "cell_type": "code",
   "execution_count": 4,
   "metadata": {
    "collapsed": false
   },
   "outputs": [
    {
     "data": {
      "text/plain": [
       "\" xArray e' l'array corrispondende all'asse x\\n \\t yArray e' l'array corrispondende all'asse yArray\\n \\t occupancy e' l'array di array che stabilisce quale celle sono di vetro e quali di legno \""
      ]
     },
     "execution_count": 4,
     "metadata": {},
     "output_type": "execute_result"
    }
   ],
   "source": [
    "\"\"\" xArray e' l'array corrispondende all'asse x\n",
    " \t yArray e' l'array corrispondende all'asse yArray\n",
    " \t occupancy e' l'array di array che stabilisce quale celle sono di vetro e quali di legno \"\"\""
   ]
  },
  {
   "cell_type": "code",
   "execution_count": 5,
   "metadata": {
    "collapsed": true
   },
   "outputs": [],
   "source": [
    "#window1\n",
    "xArray = [0.0,0.1,0.5,0.6,1.0,1.1]\n",
    "yArray = [0.0,0.1,1.0,1.1,1.3,1.4]\n",
    "occupancy = [[1,1,1,1,1],[1,0,1,0,1],[1,1,1,1,1],[1,0,0,0,1],[1,1,1,1,1]]"
   ]
  },
  {
   "cell_type": "code",
   "execution_count": 6,
   "metadata": {
    "collapsed": true
   },
   "outputs": [],
   "source": [
    "#window2\n",
    "#xArray = [0.0,0.1,0.5,0.6,1.0,1.1]\n",
    "#yArray = [0.0,0.1,0.6,0.7,1.2,1.3]\n",
    "#occupancy = [[1,1,1,1,1],[1,0,1,0,1],[1,1,1,1,1],[1,0,1,0,1],[1,1,1,1,1]]"
   ]
  },
  {
   "cell_type": "code",
   "execution_count": 7,
   "metadata": {
    "collapsed": true
   },
   "outputs": [],
   "source": [
    "#puerta\n",
    "#xArray = [0.0,0.2,0.5,0.7]\n",
    "#yArray = [0.0,0.2,0.4,0.5,1.6,1.8]\n",
    "#occupancy = [[1,1,1],[1,0,1],[1,1,1],[1,0,1],[1,1,1]]"
   ]
  },
  {
   "cell_type": "code",
   "execution_count": 8,
   "metadata": {
    "collapsed": true
   },
   "outputs": [],
   "source": [
    "#porta\n",
    "#xArray = [0.0,0.2,0.4,0.6,0.8,1.0]\n",
    "#yArray = [0.0,0.2,0.8,1.0,1.6,1.8]\n",
    "#occupancy = [[1,1,1,1,1],[1,0,1,0,1],[1,1,1,1,1],[1,0,1,0,1],[1,1,1,1,1]]"
   ]
  },
  {
   "cell_type": "code",
   "execution_count": 9,
   "metadata": {
    "collapsed": false
   },
   "outputs": [
    {
     "data": {
      "text/plain": [
       "' struttura iniziale'"
      ]
     },
     "execution_count": 9,
     "metadata": {},
     "output_type": "execute_result"
    }
   ],
   "source": [
    "\"\"\" struttura iniziale\"\"\""
   ]
  },
  {
   "cell_type": "code",
   "execution_count": 10,
   "metadata": {
    "collapsed": true
   },
   "outputs": [],
   "source": [
    "zero = QUOTE([.0,.0])\n",
    "initStruct = STRUCT([zero])"
   ]
  },
  {
   "cell_type": "code",
   "execution_count": 1,
   "metadata": {
    "collapsed": false
   },
   "outputs": [
    {
     "data": {
      "text/plain": [
       "' funzione che crea la finestra: i vetri sono blu i legni sono bianchi '"
      ]
     },
     "execution_count": 1,
     "metadata": {},
     "output_type": "execute_result"
    }
   ],
   "source": [
    "\"\"\" funzione che crea la finestra: i vetri sono blu i legni sono bianchi \"\"\""
   ]
  },
  {
   "cell_type": "code",
   "execution_count": 2,
   "metadata": {
    "collapsed": true
   },
   "outputs": [],
   "source": [
    "def window(i, j, partStruct):\n",
    "\tif j != len(yArray)-1:\n",
    "\t\tif  i != len(xArray)-1:\n",
    "\t\t\tif occupancy[j][i]==0:\n",
    "\t\t\t\tx = COLOR(BLUE)(CUBOID([xArray[i+1]-xArray[i],yArray[j+1]-yArray[j],0.01]))\n",
    "\t\t\t\tstruct = STRUCT([T([1,2,3])([xArray[i],yArray[j],0.1/3]), x])\n",
    "\t\t\telse:\n",
    "\t\t\t\tx = COLOR(WHITE)(CUBOID([xArray[i+1]-xArray[i],yArray[j+1]-yArray[j],0.1]))\n",
    "\t\t\t\tstruct = STRUCT([T([1,2])([xArray[i],yArray[j]]), x])\n",
    "\t\t\tpartStruct = STRUCT([partStruct,struct])\n",
    "\t\t\treturn window(i+1, j, partStruct)\n",
    "\t\telse:\n",
    "\t\t\treturn window(0, j+1, partStruct)\n",
    "\telse:\n",
    "\t\tVIEW(partStruct)"
   ]
  },
  {
   "cell_type": "code",
   "execution_count": 3,
   "metadata": {
    "collapsed": false
   },
   "outputs": [
    {
     "data": {
      "text/plain": [
       "' funzione che crea la porta '"
      ]
     },
     "execution_count": 3,
     "metadata": {},
     "output_type": "execute_result"
    }
   ],
   "source": [
    "\"\"\" funzione che crea la porta \"\"\""
   ]
  },
  {
   "cell_type": "code",
   "execution_count": 4,
   "metadata": {
    "collapsed": true
   },
   "outputs": [],
   "source": [
    "def door(i, j, partStruct):\n",
    "\tif j != len(yArray)-1:\n",
    "\t\tif  i != len(xArray)-1:\n",
    "\t\t\tif occupancy[j][i]==0:\n",
    "\t\t\t\tx = COLOR(WHITE)(CUBOID([xArray[i+1]-xArray[i],yArray[j+1]-yArray[j],0.01]))\n",
    "\t\t\t\tstruct = STRUCT([T([1,2,3])([xArray[i],yArray[j],0.1/3]), x])\n",
    "\t\t\telse:\n",
    "\t\t\t\tx = COLOR(BROWN)(CUBOID([xArray[i+1]-xArray[i],yArray[j+1]-yArray[j],0.1]))\n",
    "\t\t\t\tstruct = STRUCT([T([1,2])([xArray[i],yArray[j]]), x])\n",
    "\t\t\tpartStruct = STRUCT([partStruct,struct])\n",
    "\t\t\treturn door(i+1, j, partStruct)\n",
    "\t\telse:\n",
    "\t\t\treturn door(0, j+1, partStruct)\n",
    "\telse:\n",
    "\t\tVIEW(partStruct)"
   ]
  },
  {
   "cell_type": "code",
   "execution_count": null,
   "metadata": {
    "collapsed": true
   },
   "outputs": [],
   "source": [
    "window(0, 0, initStruct)\n"
   ]
  }
 ],
 "metadata": {
  "kernelspec": {
   "display_name": "Python 2",
   "language": "python",
   "name": "python2"
  },
  "language_info": {
   "codemirror_mode": {
    "name": "ipython",
    "version": 2
   },
   "file_extension": ".py",
   "mimetype": "text/x-python",
   "name": "python",
   "nbconvert_exporter": "python",
   "pygments_lexer": "ipython2",
   "version": "2.7.3"
  }
 },
 "nbformat": 4,
 "nbformat_minor": 1
}
